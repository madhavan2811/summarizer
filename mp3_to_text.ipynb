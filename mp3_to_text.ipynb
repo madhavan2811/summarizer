{
  "nbformat": 4,
  "nbformat_minor": 0,
  "metadata": {
    "colab": {
      "name": "mp3 to text.ipynb",
      "provenance": [],
      "collapsed_sections": [],
      "include_colab_link": true
    },
    "kernelspec": {
      "name": "python3",
      "display_name": "Python 3"
    },
    "language_info": {
      "name": "python"
    }
  },
  "cells": [
    {
      "cell_type": "markdown",
      "metadata": {
        "id": "view-in-github",
        "colab_type": "text"
      },
      "source": [
        "<a href=\"https://colab.research.google.com/github/madhavan2811/summarizer/blob/master/mp3_to_text.ipynb\" target=\"_parent\"><img src=\"https://colab.research.google.com/assets/colab-badge.svg\" alt=\"Open In Colab\"/></a>"
      ]
    },
    {
      "cell_type": "code",
      "execution_count": null,
      "metadata": {
        "colab": {
          "base_uri": "https://localhost:8080/"
        },
        "id": "STBR_qXJMCLE",
        "outputId": "7735a5b0-d8d4-4799-f327-da74a5318ebe"
      },
      "outputs": [
        {
          "output_type": "stream",
          "name": "stdout",
          "text": [
            "Collecting pydub\n",
            "  Downloading pydub-0.25.1-py2.py3-none-any.whl (32 kB)\n",
            "Installing collected packages: pydub\n",
            "Successfully installed pydub-0.25.1\n"
          ]
        }
      ],
      "source": [
        "pip install pydub "
      ]
    },
    {
      "cell_type": "code",
      "source": [
        "from pydub import AudioSegment"
      ],
      "metadata": {
        "id": "avcOQnpxMc33"
      },
      "execution_count": null,
      "outputs": []
    },
    {
      "cell_type": "code",
      "source": [
        "src = \"Audio1.mp3\"\n",
        "dst = \"test1.wav\""
      ],
      "metadata": {
        "id": "8wxrjn48MfMQ"
      },
      "execution_count": null,
      "outputs": []
    },
    {
      "cell_type": "code",
      "source": [
        "audSeg = AudioSegment.from_mp3(\"VAudio2.mp3\")\n",
        "audSeg.export(dst, format=\"wav\")"
      ],
      "metadata": {
        "colab": {
          "base_uri": "https://localhost:8080/"
        },
        "id": "vX_tSaI7NfKj",
        "outputId": "3026a452-f1e4-4d73-a6f4-81f167e5bd77"
      },
      "execution_count": null,
      "outputs": [
        {
          "output_type": "execute_result",
          "data": {
            "text/plain": [
              "<_io.BufferedRandom name='test1.wav'>"
            ]
          },
          "metadata": {},
          "execution_count": 31
        }
      ]
    },
    {
      "cell_type": "code",
      "source": [
        "import subprocess\n",
        "subprocess.call(['ffmpeg', '-i', 'VAudio2.mp3',\n",
        "                   'VAudio2.wav'])"
      ],
      "metadata": {
        "colab": {
          "base_uri": "https://localhost:8080/"
        },
        "id": "UEjb0dHcNvDa",
        "outputId": "95c9c347-3d45-4ac3-ad7a-494a8754c09a"
      },
      "execution_count": null,
      "outputs": [
        {
          "output_type": "execute_result",
          "data": {
            "text/plain": [
              "0"
            ]
          },
          "metadata": {},
          "execution_count": 6
        }
      ]
    },
    {
      "cell_type": "code",
      "source": [
        "pip install SpeechRecognition"
      ],
      "metadata": {
        "colab": {
          "base_uri": "https://localhost:8080/"
        },
        "id": "F7qLHtBxRk5x",
        "outputId": "d0f10bf2-c896-43ec-9cde-bbc69319646e"
      },
      "execution_count": null,
      "outputs": [
        {
          "output_type": "stream",
          "name": "stdout",
          "text": [
            "Collecting SpeechRecognition\n",
            "  Downloading SpeechRecognition-3.8.1-py2.py3-none-any.whl (32.8 MB)\n",
            "\u001b[K     |████████████████████████████████| 32.8 MB 1.3 MB/s \n",
            "\u001b[?25hInstalling collected packages: SpeechRecognition\n",
            "Successfully installed SpeechRecognition-3.8.1\n"
          ]
        }
      ]
    },
    {
      "cell_type": "code",
      "source": [
        "import speech_recognition as sr"
      ],
      "metadata": {
        "id": "bWE_Szp3TZHw"
      },
      "execution_count": null,
      "outputs": []
    },
    {
      "cell_type": "code",
      "source": [
        "import os"
      ],
      "metadata": {
        "id": "j-dq8oM7dHyQ"
      },
      "execution_count": null,
      "outputs": []
    },
    {
      "cell_type": "code",
      "source": [
        "pip install pydub"
      ],
      "metadata": {
        "colab": {
          "base_uri": "https://localhost:8080/"
        },
        "id": "PQNgpRcrdLQK",
        "outputId": "ac10437b-47bf-4898-96b8-bc8cb3a0a3fa"
      },
      "execution_count": null,
      "outputs": [
        {
          "output_type": "stream",
          "name": "stdout",
          "text": [
            "Requirement already satisfied: pydub in /usr/local/lib/python3.7/dist-packages (0.25.1)\n"
          ]
        }
      ]
    },
    {
      "cell_type": "code",
      "source": [
        "from pydub import AudioSegment"
      ],
      "metadata": {
        "id": "fCGdQe3BdQdE"
      },
      "execution_count": null,
      "outputs": []
    },
    {
      "cell_type": "code",
      "source": [
        "from pydub.silence import split_on_silence\n"
      ],
      "metadata": {
        "id": "Ju3VVGBedY6L"
      },
      "execution_count": null,
      "outputs": []
    },
    {
      "cell_type": "code",
      "source": [
        "import speech_recognition as sr \n",
        "import os \n",
        "from pydub import AudioSegment\n",
        "from pydub.silence import split_on_silence\n",
        "\n",
        "r = sr.Recognizer()\n",
        "fh = open(\"VAudio2.txt\", \"a+\")\n",
        "\n",
        "def get_large_audio_transcription(path):\n",
        "    \"\"\"\n",
        "    Splitting the large audio file into chunks\n",
        "    and apply speech recognition on each of these chunks\n",
        "    \"\"\"\n",
        "    sound = AudioSegment.from_wav(path)  \n",
        "    chunks = split_on_silence(sound,\n",
        "        min_silence_len = 1500,\n",
        "        silence_thresh = sound.dBFS-14,\n",
        "        keep_silence=1500,\n",
        "    )\n",
        "    folder_name = \"audio-chunks\"\n",
        "    if not os.path.isdir(folder_name):\n",
        "        os.mkdir(folder_name)\n",
        "    whole_text = \"\"\n",
        "    for i, audio_chunk in enumerate(chunks, start=1):\n",
        "        chunk_filename = os.path.join(folder_name, f\"chunk{i}.wav\")\n",
        "        audio_chunk.export(chunk_filename, format=\"wav\")\n",
        "        with sr.AudioFile(chunk_filename) as source:\n",
        "            audio_listened = r.record(source)\n",
        "            try:\n",
        "                text = r.recognize_google(audio_listened)\n",
        "            except sr.UnknownValueError as e:\n",
        "                print(\"Error:\", str(e))\n",
        "            else:\n",
        "                text = f\"{text.capitalize()}. \"\n",
        "                print(chunk_filename, \":\", text)\n",
        "                whole_text += text\n",
        "                fh.write(text)\n",
        "\n",
        "    return whole_text\n",
        "\n",
        "path = \"VAudio2.wav\"\n",
        "print(\"\\nFull text:\", get_large_audio_transcription(path))\n",
        "fh.close()"
      ],
      "metadata": {
        "colab": {
          "base_uri": "https://localhost:8080/"
        },
        "id": "ONP8vhbGdaK8",
        "outputId": "33f5b80e-b5cf-48b2-dfed-cd2743b139de"
      },
      "execution_count": null,
      "outputs": [
        {
          "output_type": "stream",
          "name": "stdout",
          "text": [
            "audio-chunks/chunk1.wav : Thank you for the presentation and please don't call me ma'am i'm waiting how old is everybody. \n",
            "audio-chunks/chunk2.wav : I just turned 23 so we're the same age thank you so much for having me and i'm very very happy to be here and addressing this crowd who's my friends all of you because we're the same age i don't know i don't know where to start. \n",
            "audio-chunks/chunk3.wav : Timer student myself i just finished my graduation and all i want to say is that this life that you're living right now your college life this life is your most most important because. \n",
            "audio-chunks/chunk4.wav : What i did is i missed out on my college years because i was very busy practicing kickboxing and karate and mixed martial arts i had no time. \n",
            "\n",
            "Full text: Thank you for the presentation and please don't call me ma'am i'm waiting how old is everybody. I just turned 23 so we're the same age thank you so much for having me and i'm very very happy to be here and addressing this crowd who's my friends all of you because we're the same age i don't know i don't know where to start. Timer student myself i just finished my graduation and all i want to say is that this life that you're living right now your college life this life is your most most important because. What i did is i missed out on my college years because i was very busy practicing kickboxing and karate and mixed martial arts i had no time. \n"
          ]
        }
      ]
    }
  ]
}